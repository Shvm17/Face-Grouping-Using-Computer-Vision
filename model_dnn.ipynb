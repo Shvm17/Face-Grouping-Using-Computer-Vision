{
 "cells": [
  {
   "cell_type": "markdown",
   "id": "fefb1648",
   "metadata": {},
   "source": [
    "# Importing Libraries"
   ]
  },
  {
   "cell_type": "code",
   "execution_count": null,
   "id": "af411736",
   "metadata": {},
   "outputs": [],
   "source": [
    "import os\n",
    "import shutil\n",
    "import numpy as np\n",
    "import cv2\n",
    "import face_recognition\n",
    "import datetime\n",
    "import time"
   ]
  },
  {
   "cell_type": "markdown",
   "id": "0857d3a6",
   "metadata": {},
   "source": [
    "## Detecting Faces in an Image using Caffe DNN model"
   ]
  },
  {
   "cell_type": "code",
   "execution_count": null,
   "id": "793114be",
   "metadata": {},
   "outputs": [],
   "source": [
    "start_time = time.time()\n",
    "\n",
    "def detect_faces_dnn(image_path):\n",
    "    # Load the image\n",
    "    image = cv2.imread(image_path)\n",
    "    h, w = image.shape[:2]\n",
    "\n",
    "    # Load the pre-trained model\n",
    "    prototxt_path = 'deploy.prototxt'\n",
    "    model_path = 'res10_300x300_ssd_iter_140000.caffemodel'\n",
    "    net = cv2.dnn.readNetFromCaffe(prototxt_path, model_path)\n",
    "\n",
    "    # Prepare the image for the DNN\n",
    "    blob = cv2.dnn.blobFromImage(cv2.resize(image, (300, 300)), 1.0, (300, 300), (104.0, 177.0, 123.0))\n",
    "    net.setInput(blob)\n",
    "    detections = net.forward()\n",
    "\n",
    "    # Extract bounding boxes\n",
    "    face_locations = []\n",
    "    for i in range(0, detections.shape[2]):\n",
    "        confidence = detections[0, 0, i, 2]\n",
    "        if confidence > 0.5:\n",
    "            box = detections[0, 0, i, 3:7] * np.array([w, h, w, h])\n",
    "            (startX, startY, endX, endY) = box.astype(\"int\")\n",
    "            face_locations.append((startY, endX, endY, startX))\n",
    "\n",
    "    return face_locations\n",
    "\n"
   ]
  },
  {
   "cell_type": "markdown",
   "id": "a88cdfbd",
   "metadata": {},
   "source": [
    "## Get face encodings"
   ]
  },
  {
   "cell_type": "code",
   "execution_count": null,
   "id": "0ca315d8",
   "metadata": {},
   "outputs": [],
   "source": [
    "def get_face_encodings(image_path, face_locations):\n",
    "    # Load the image\n",
    "    image = face_recognition.load_image_file(image_path)\n",
    "\n",
    "    # Find all face encodings in the image\n",
    "    face_encodings = face_recognition.face_encodings(image, face_locations)\n",
    "\n",
    "    return face_encodings"
   ]
  },
  {
   "cell_type": "markdown",
   "id": "b587d6c4",
   "metadata": {},
   "source": [
    "## Known Faces"
   ]
  },
  {
   "cell_type": "code",
   "execution_count": null,
   "id": "e0b8e3e3",
   "metadata": {},
   "outputs": [],
   "source": [
    "def create_known_face_encodings(known_faces_dir):\n",
    "    known_face_encodings = []\n",
    "    known_face_names = []\n",
    "    for image_name in os.listdir(known_faces_dir):\n",
    "        if image_name.startswith('.'):\n",
    "            continue\n",
    "\n",
    "        try:\n",
    "            image_path = os.path.join(known_faces_dir, image_name)\n",
    "            face_locations = detect_faces_dnn(image_path)\n",
    "            encodings = get_face_encodings(image_path, face_locations)\n",
    "            if encodings:\n",
    "                known_face_encodings.append(encodings[0])\n",
    "                known_face_names.append(os.path.splitext(image_name)[0])\n",
    "            else:\n",
    "                print(f\"No face found in {image_name}\")\n",
    "        except Exception as e:\n",
    "            print(f\"Error processing file {image_name}: {e}\")\n",
    "\n",
    "    return known_face_encodings, known_face_names\n",
    "\n"
   ]
  },
  {
   "cell_type": "markdown",
   "id": "5cd4f4ca",
   "metadata": {},
   "source": [
    "## Face grouping"
   ]
  },
  {
   "cell_type": "code",
   "execution_count": null,
   "id": "f0a83045",
   "metadata": {},
   "outputs": [],
   "source": [
    "\n",
    "def organize_event_photos(event_photos_dir, known_face_encodings, known_face_names, output_dir):\n",
    "\n",
    "    if not os.path.exists(output_dir):\n",
    "        os.makedirs(output_dir)\n",
    "       \n",
    "    for image_name in os.listdir(event_photos_dir):\n",
    "        if image_name.startswith('.'):\n",
    "            continue\n",
    "\n",
    "        image_path = os.path.join(event_photos_dir, image_name)\n",
    "\n",
    "        try:\n",
    "            face_locations = detect_faces_dnn(image_path)\n",
    "            face_encodings = get_face_encodings(image_path, face_locations)\n",
    "            if not face_encodings:\n",
    "                print(f\"No faces found in {image_name}\")\n",
    "                continue\n",
    "\n",
    "            for face_encoding in face_encodings:\n",
    "                matches = face_recognition.compare_faces(known_face_encodings, face_encoding)\n",
    "                face_distances = face_recognition.face_distance(known_face_encodings, face_encoding)\n",
    "                best_match_index = np.argmin(face_distances)\n",
    "                if matches[best_match_index]:\n",
    "                    name = known_face_names[best_match_index]\n",
    "\n",
    "                    person_dir = os.path.join(output_dir, name)\n",
    "                    if not os.path.exists(person_dir):\n",
    "                        os.makedirs(person_dir)\n",
    "                    shutil.copy(image_path, person_dir)\n",
    "\n",
    "        except Exception as e:\n",
    "            print(f\"Error processing file {image_name}: {e}\")\n"
   ]
  },
  {
   "cell_type": "markdown",
   "id": "8df4f540",
   "metadata": {},
   "source": [
    "## Defining Directories "
   ]
  },
  {
   "cell_type": "code",
   "execution_count": null,
   "id": "0e3f7fc4",
   "metadata": {},
   "outputs": [],
   "source": [
    "# Define directories\n",
    "known_faces_dir = 'C:/Users/.../known_faces'\n",
    "event_photos_dir = 'C:/Users/.../Testing Faces'\n",
    "output_dir = 'C:/Users/.../Organized Photos using DNN'\n"
   ]
  },
  {
   "cell_type": "markdown",
   "id": "a68b5f60",
   "metadata": {},
   "source": [
    "## Driver"
   ]
  },
  {
   "cell_type": "code",
   "execution_count": null,
   "id": "d2516494",
   "metadata": {},
   "outputs": [],
   "source": [
    "# Create known face encodings\n",
    "known_face_encodings, known_face_names = create_known_face_encodings(known_faces_dir)\n",
    "\n",
    "# Organize event photos\n",
    "organize_event_photos(event_photos_dir, known_face_encodings, known_face_names, output_dir)\n",
    "end_time = time.time()\n",
    "print(f\"Organizing completed in {end_time - start_time} seconds.\")"
   ]
  }
 ],
 "metadata": {
  "kernelspec": {
   "display_name": "py3upgraded",
   "language": "python",
   "name": "py3upgraded"
  },
  "language_info": {
   "codemirror_mode": {
    "name": "ipython",
    "version": 3
   },
   "file_extension": ".py",
   "mimetype": "text/x-python",
   "name": "python",
   "nbconvert_exporter": "python",
   "pygments_lexer": "ipython3",
   "version": "3.8.5"
  }
 },
 "nbformat": 4,
 "nbformat_minor": 5
}
